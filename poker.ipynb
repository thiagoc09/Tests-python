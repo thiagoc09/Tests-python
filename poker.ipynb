{
  "nbformat": 4,
  "nbformat_minor": 0,
  "metadata": {
    "colab": {
      "name": "poker.ipynb",
      "provenance": [],
      "authorship_tag": "ABX9TyN5jsbS0/gM9lq9wIOh6SFL",
      "include_colab_link": true
    },
    "kernelspec": {
      "name": "python3",
      "display_name": "Python 3"
    },
    "language_info": {
      "name": "python"
    }
  },
  "cells": [
    {
      "cell_type": "markdown",
      "metadata": {
        "id": "view-in-github",
        "colab_type": "text"
      },
      "source": [
        "<a href=\"https://colab.research.google.com/github/thiagoc09/Tests-python/blob/main/poker.ipynb\" target=\"_parent\"><img src=\"https://colab.research.google.com/assets/colab-badge.svg\" alt=\"Open In Colab\"/></a>"
      ]
    },
    {
      "cell_type": "code",
      "execution_count": null,
      "metadata": {
        "colab": {
          "base_uri": "https://localhost:8080/"
        },
        "id": "i-zQ8aVEVKV3",
        "outputId": "e16c6902-b720-4898-c1b4-729a746682df"
      },
      "outputs": [
        {
          "name": "stdout",
          "output_type": "stream",
          "text": [
            "1=PERDEU//2=GANHOU//SAIR=01\n",
            "1=PERDEU//2=GANHOU//SAIR=02\n",
            "valor1.25\n",
            "1=PERDEU//2=GANHOU//SAIR=02\n",
            "valor0.5\n"
          ]
        }
      ],
      "source": [
        "perdeu=0\n",
        "resultado=0\n",
        "ganhou=0\n",
        "resposta=9\n",
        "while(resposta!=0):\n",
        "  resposta=float(input(\"1=PERDEU//2=GANHOU//SAIR=0\"))\n",
        "  if(resposta==1):\n",
        "    perdeu=perdeu+1\n",
        "    resultado=resultado-0.25\n",
        "  if(resposta==2):\n",
        "    ganhou=ganhou+1  \n",
        "    valor=float(input(\"valor\"))\n",
        "    resultado=resultado+valor\n",
        "    resultado=resultado-0.25\n",
        "    \n",
        "if(resposta==0):  \n",
        "  media=ganhou/perdeu\n",
        "  print(\"--------------\")\n",
        "  print(\"--------------\")\n",
        "  print(\"--------------\")\n",
        "  print(\"--------------\")\n",
        "  print(\"--------------\")\n",
        "  print(\"Resultado::::\",resultado)\n",
        "  print(\"vitorias>>>>\",ganhou)\n",
        "  print(\"derrotas>>>>\",perdeu)\n",
        "  print(\"kd====\",media)"
      ]
    },
    {
      "cell_type": "code",
      "source": [
        "\"\""
      ],
      "metadata": {
        "id": "gG5g89GEWQlb"
      },
      "execution_count": null,
      "outputs": []
    }
  ]
}